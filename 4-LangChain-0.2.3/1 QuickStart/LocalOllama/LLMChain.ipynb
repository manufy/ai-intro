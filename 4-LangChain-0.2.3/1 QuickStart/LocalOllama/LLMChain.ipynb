{
 "cells": [
  {
   "cell_type": "code",
   "execution_count": null,
   "metadata": {},
   "outputs": [],
   "source": [
    "!ollama run tinyllama"
   ]
  },
  {
   "cell_type": "code",
   "execution_count": 1,
   "metadata": {},
   "outputs": [],
   "source": [
    "from langchain_community.llms import Ollama\n",
    "#llm = Ollama(model=\"llama2\")\n",
    "#llm = Ollama(model=\"moondream\")\n",
    "#∫llm = Ollama(model=\"phi3\")\n",
    "llm = Ollama(model=\"tinyllama\")\n"
   ]
  },
  {
   "cell_type": "code",
   "execution_count": 2,
   "metadata": {},
   "outputs": [
    {
     "data": {
      "text/plain": [
       "'Langsmith is an all-in-one test automation solution that helps you write, run and analyze automated tests on your web application or system. Here are some ways Langsmith can help you with testing:\\n\\n1. Test planning and execution: Langsmith allows you to create and execute test cases that cover different use cases and scenarios for the application or system being tested. This helps you identify and fix bugs more quickly and efficiently.\\n\\n2. Automated testing with Selenium: Langsmith supports automated testing with Selenium, which is a widely used open-source tool for driving web pages and executing scripts using a browser. With this integration, you can write tests that simulate real user interactions to verify functionality and identify issues before they become bugs.\\n\\n3. Visual and functional testing: Langsmith supports visual and functional testing with tools such as JMeter and LoadRunner. These tests help you measure the performance of your application or system and identify bottlenecks, which can be addressed before deployment.\\n\\n4. Continuous integration and continuous delivery (CI/CD): Langsmith integrates with popular CI/CD tools like Jenkins and Bitbucket to automate testing and build processes. This helps you improve the speed of your development cycle by eliminating manual testing steps.\\n\\n5. Reporting and analysis: Langsmith provides detailed reports and analytics that help you understand how your tests are performing, identify trends, and make informed decisions about which tests to prioritize for improvement.'"
      ]
     },
     "execution_count": 2,
     "metadata": {},
     "output_type": "execute_result"
    }
   ],
   "source": [
    "llm.invoke(\"how can langsmith help with testing?\")"
   ]
  },
  {
   "cell_type": "code",
   "execution_count": 3,
   "metadata": {},
   "outputs": [
    {
     "data": {
      "text/plain": [
       "\"Langsmith can provide various types of testing services for your technical documentation, including:\\n\\n1. Functional Testing: Langsmith's experienced team will conduct functional tests to ensure that the documentation is easy to use and understand. We can test for usability, accuracy, clarity, relevance, and comprehensibility.\\n\\n2. Usability Testing: Our experts will conduct usability testing to identify any issues with the layout, design, or user experience. This includes evaluating the document's ease of use, navigation, and interactivity.\\n\\n3. Accessibility Testing: We provide accessibility testing for web-based documentation using tools like WAVE, AA, and XHTML Validator. Our team can identify and fix any accessibility issues that could be causing usability problems for your users.\\n\\n4. Performance Testing: We can test the performance of technical documentation, including its speed, load time, and resource usage. This helps us understand how well the documentation loads and responds to user demands.\\n\\n5. Error Handling: Our team can conduct error handling testing for technical documents to identify issues that may affect user experience or cause errors. We will evaluate the effectiveness of error handling measures implemented in your documentation.\\n\\n6. Regression Testing: Langsmith's experts can also perform regression testing to identify any changes made to the document since its creation and ensure that these changes haven't affected its functionality or usability.\\n\\nOverall, Langsmith's testing services will help you improve your technical documentation by finding and fixing issues before they become problems for your users.\""
      ]
     },
     "execution_count": 3,
     "metadata": {},
     "output_type": "execute_result"
    }
   ],
   "source": [
    "from langchain_core.prompts import ChatPromptTemplate\n",
    "prompt = ChatPromptTemplate.from_messages([\n",
    "    (\"system\", \"You are a world class technical documentation writer.\"),\n",
    "    (\"user\", \"{input}\")\n",
    "])\n",
    "chain = prompt | llm \n",
    "chain.invoke({\"input\": \"how can langsmith help with testing?\"})"
   ]
  },
  {
   "cell_type": "code",
   "execution_count": 4,
   "metadata": {},
   "outputs": [
    {
     "data": {
      "text/plain": [
       "\"LangSmith, the leading software development company in the industry, provides a range of services for testing, including:\\n\\n1. Quality Assurance (QA) Testing: LangSmith conducts thorough quality assurance testing to ensure that applications meet specifications and are user-friendly. This includes manual testing as well as automated testing using tools like Selenium or JUnit.\\n\\n2. Automated Testing: LangSmith can also perform automated testing using tools such as TestComplete, Appium, or Cypress. These tests help to detect defects early in the development cycle and improve overall quality.\\n\\n3. Test Data Creation: LangSmith can generate test data sets according to specifications to ensure that the tests are valid for the product being tested. This can include generating mock data based on real customer information or data from other sources.\\n\\n4. Regression Testing: LangSmith can conduct regression testing, which involves testing different versions of the application against each other to identify any bugs or issues that may arise due to changes made in other areas of the product.\\n\\n5. Usability Testing: LangSmith also provides usability testing services to ensure that applications are easy and intuitive to use for end users. This can include user testing, focus groups, or interviews with users.\\n\\n6. Performance Testing: LangSmith can also conduct performance testing to measure the application's performance under various conditions and identify any bottlenecks or slowdowns.\\n\\nOverall, LangSmith can provide a wide range of testing services that can help ensure the quality and reliability of your software product.\""
      ]
     },
     "execution_count": 4,
     "metadata": {},
     "output_type": "execute_result"
    }
   ],
   "source": [
    "from langchain_core.output_parsers import StrOutputParser\n",
    "\n",
    "output_parser = StrOutputParser()\n",
    "chain = prompt | llm | output_parser\n",
    "chain.invoke({\"input\": \"how can langsmith help with testing?\"})\n"
   ]
  }
 ],
 "metadata": {
  "kernelspec": {
   "display_name": "langchain-0.2.3",
   "language": "python",
   "name": "python3"
  },
  "language_info": {
   "codemirror_mode": {
    "name": "ipython",
    "version": 3
   },
   "file_extension": ".py",
   "mimetype": "text/x-python",
   "name": "python",
   "nbconvert_exporter": "python",
   "pygments_lexer": "ipython3",
   "version": "3.12.3"
  }
 },
 "nbformat": 4,
 "nbformat_minor": 2
}
